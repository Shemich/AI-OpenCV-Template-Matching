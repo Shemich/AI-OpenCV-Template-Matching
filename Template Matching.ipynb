{
 "cells": [
  {
   "cell_type": "markdown",
   "id": "respected-dominican",
   "metadata": {},
   "source": [
    "# Quarter Notes Detection Using OpenCV"
   ]
  },
  {
   "cell_type": "code",
   "execution_count": null,
   "id": "minute-crest",
   "metadata": {},
   "outputs": [],
   "source": [
    "!pip install opencv-python"
   ]
  },
  {
   "cell_type": "code",
   "execution_count": 139,
   "id": "supreme-minutes",
   "metadata": {},
   "outputs": [],
   "source": [
    "import numpy as np\n",
    "import matplotlib.pyplot as plt\n",
    "import cv2 as cv"
   ]
  },
  {
   "cell_type": "code",
   "execution_count": 154,
   "id": "interpreted-planner",
   "metadata": {},
   "outputs": [],
   "source": [
    "notes_img = cv.imread('notes.png', cv.IMREAD_UNCHANGED)\n",
    "qnote_img = cv.imread('quarter_note.png', cv.IMREAD_UNCHANGED)"
   ]
  },
  {
   "cell_type": "code",
   "execution_count": 167,
   "id": "steady-girlfriend",
   "metadata": {},
   "outputs": [],
   "source": [
    "cv.imshow('Notes', notes_img)\n",
    "cv.waitKey()\n",
    "cv.destroyAllWindows()"
   ]
  },
  {
   "cell_type": "code",
   "execution_count": 156,
   "id": "enabling-enough",
   "metadata": {},
   "outputs": [],
   "source": [
    "cv.imshow('Quarter note', qnote_img)\n",
    "cv.waitKey()\n",
    "cv.destroyAllWindows()"
   ]
  },
  {
   "cell_type": "code",
   "execution_count": 157,
   "id": "documented-warren",
   "metadata": {},
   "outputs": [],
   "source": [
    "res = cv.matchTemplate(notes_img, qnote_img, cv.TM_CCOEFF_NORMED)"
   ]
  },
  {
   "cell_type": "code",
   "execution_count": 158,
   "id": "little-bargain",
   "metadata": {},
   "outputs": [
    {
     "data": {
      "text/plain": [
       "True"
      ]
     },
     "execution_count": 158,
     "metadata": {},
     "output_type": "execute_result"
    }
   ],
   "source": [
    "res_save = cv.convertScaleAbs(res, alpha=(255.0))\n",
    "cv.imwrite('Match Results.png', res_save) "
   ]
  },
  {
   "cell_type": "code",
   "execution_count": 159,
   "id": "acting-change",
   "metadata": {},
   "outputs": [],
   "source": [
    "cv.imshow('Match Results', res)\n",
    "cv.waitKey()\n",
    "cv.destroyAllWindows()"
   ]
  },
  {
   "cell_type": "code",
   "execution_count": 160,
   "id": "treated-evanescence",
   "metadata": {},
   "outputs": [],
   "source": [
    "min_val, max_val, min_loc, max_loc = cv.minMaxLoc(res)"
   ]
  },
  {
   "cell_type": "code",
   "execution_count": 161,
   "id": "supposed-struggle",
   "metadata": {},
   "outputs": [],
   "source": [
    "w = qnote_img.shape[1]\n",
    "h = qnote_img.shape[0]"
   ]
  },
  {
   "cell_type": "code",
   "execution_count": 162,
   "id": "czech-shoulder",
   "metadata": {},
   "outputs": [
    {
     "data": {
      "text/plain": [
       "array([[[255, 255, 255, 255],\n",
       "        [255, 255, 255, 255],\n",
       "        [255, 255, 255, 255],\n",
       "        ...,\n",
       "        [254, 254, 254, 255],\n",
       "        [255, 255, 255, 255],\n",
       "        [255, 255, 255, 255]],\n",
       "\n",
       "       [[255, 255, 255, 255],\n",
       "        [255, 255, 255, 255],\n",
       "        [254, 254, 254, 255],\n",
       "        ...,\n",
       "        [255, 255, 255, 255],\n",
       "        [255, 255, 255, 255],\n",
       "        [255, 255, 255, 255]],\n",
       "\n",
       "       [[255, 255, 255, 255],\n",
       "        [255, 255, 255, 255],\n",
       "        [254, 254, 254, 255],\n",
       "        ...,\n",
       "        [255, 255, 255, 255],\n",
       "        [254, 254, 254, 255],\n",
       "        [255, 255, 255, 255]],\n",
       "\n",
       "       ...,\n",
       "\n",
       "       [[255, 255, 255, 255],\n",
       "        [254, 254, 254, 255],\n",
       "        [254, 254, 254, 255],\n",
       "        ...,\n",
       "        [255, 255, 255, 255],\n",
       "        [255, 255, 255, 255],\n",
       "        [254, 254, 254, 255]],\n",
       "\n",
       "       [[255, 255, 255, 255],\n",
       "        [255, 255, 255, 255],\n",
       "        [254, 254, 254, 255],\n",
       "        ...,\n",
       "        [254, 254, 254, 255],\n",
       "        [255, 255, 255, 255],\n",
       "        [255, 255, 255, 255]],\n",
       "\n",
       "       [[255, 255, 255, 255],\n",
       "        [255, 255, 255, 255],\n",
       "        [254, 254, 254, 255],\n",
       "        ...,\n",
       "        [254, 254, 254, 255],\n",
       "        [254, 254, 254, 255],\n",
       "        [255, 255, 255, 255]]], dtype=uint8)"
      ]
     },
     "execution_count": 162,
     "metadata": {},
     "output_type": "execute_result"
    }
   ],
   "source": [
    "cv.rectangle(notes_img, max_loc, (max_loc[0] + w, max_loc[1] + h), (0,255,255), 2)"
   ]
  },
  {
   "cell_type": "code",
   "execution_count": 163,
   "id": "typical-logan",
   "metadata": {},
   "outputs": [],
   "source": [
    "threshold = .80"
   ]
  },
  {
   "cell_type": "code",
   "execution_count": 164,
   "id": "threatened-bermuda",
   "metadata": {},
   "outputs": [],
   "source": [
    "yloc, xloc = np.where(res >= threshold)"
   ]
  },
  {
   "cell_type": "code",
   "execution_count": 165,
   "id": "korean-battery",
   "metadata": {},
   "outputs": [
    {
     "data": {
      "text/plain": [
       "115"
      ]
     },
     "execution_count": 165,
     "metadata": {},
     "output_type": "execute_result"
    }
   ],
   "source": [
    "len(xloc)"
   ]
  },
  {
   "cell_type": "code",
   "execution_count": 168,
   "id": "compressed-pepper",
   "metadata": {},
   "outputs": [],
   "source": [
    "for (x, y) in zip(xloc, yloc):\n",
    "    cv.rectangle(notes_img, (x, y), (x + w, y + h), (0,255,255), 2)"
   ]
  },
  {
   "cell_type": "code",
   "execution_count": 132,
   "id": "judicial-accreditation",
   "metadata": {},
   "outputs": [
    {
     "data": {
      "text/plain": [
       "True"
      ]
     },
     "execution_count": 132,
     "metadata": {},
     "output_type": "execute_result"
    }
   ],
   "source": [
    "cv.imwrite('Detected Quarter Notes.png', notes_img)"
   ]
  },
  {
   "cell_type": "code",
   "execution_count": 133,
   "id": "spread-projection",
   "metadata": {},
   "outputs": [],
   "source": [
    "cv.imshow('Detected Quarter Notes', notes_img)\n",
    "cv.waitKey()\n",
    "cv.destroyAllWindows()"
   ]
  },
  {
   "cell_type": "code",
   "execution_count": 134,
   "id": "pharmaceutical-somerset",
   "metadata": {},
   "outputs": [],
   "source": [
    "rectangles = []\n",
    "for (x, y) in zip(xloc, yloc):\n",
    "    rectangles.append([int(x), int(y), int(w), int(h)])\n",
    "    rectangles.append([int(x), int(y), int(w), int(h)])"
   ]
  },
  {
   "cell_type": "code",
   "execution_count": 135,
   "id": "varying-douglas",
   "metadata": {},
   "outputs": [
    {
     "data": {
      "text/plain": [
       "230"
      ]
     },
     "execution_count": 135,
     "metadata": {},
     "output_type": "execute_result"
    }
   ],
   "source": [
    "len(rectangles)"
   ]
  },
  {
   "cell_type": "code",
   "execution_count": 136,
   "id": "short-aviation",
   "metadata": {},
   "outputs": [],
   "source": [
    "rectangles, weights = cv.groupRectangles(rectangles, 1, 0.2)"
   ]
  },
  {
   "cell_type": "code",
   "execution_count": 137,
   "id": "adjusted-formation",
   "metadata": {},
   "outputs": [
    {
     "data": {
      "text/plain": [
       "52"
      ]
     },
     "execution_count": 137,
     "metadata": {},
     "output_type": "execute_result"
    }
   ],
   "source": [
    "len(rectangles)\n",
    "# 52 четвертных ноты должно быть"
   ]
  }
 ],
 "metadata": {
  "kernelspec": {
   "display_name": "Python 3",
   "language": "python",
   "name": "python3"
  },
  "language_info": {
   "codemirror_mode": {
    "name": "ipython",
    "version": 3
   },
   "file_extension": ".py",
   "mimetype": "text/x-python",
   "name": "python",
   "nbconvert_exporter": "python",
   "pygments_lexer": "ipython3",
   "version": "3.9.1"
  }
 },
 "nbformat": 4,
 "nbformat_minor": 5
}
